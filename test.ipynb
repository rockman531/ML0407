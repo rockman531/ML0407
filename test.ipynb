{
 "cells": [
  {
   "cell_type": "markdown",
   "metadata": {
    "collapsed": true
   },
   "source": [
    "# 標題1\n",
    "## 標題2\n",
    "\n",
    "![圖:xxx](https://www.google.com/logos/doodles/2020/thank-you-doctors-nurses-and-medical-workers-6753651837108754.4-law.gif)\n",
    "\n",
    "[請點我](https://www.google.com/)\n",
    "\n",
    "姓名 | 身高 | 體重\n",
    "-----|-----|-----\n",
    "Toro | 172 | 55\n",
    "ABC | 175 | 88\n",
    "\n",
    "[Latex Math](https://en.wikibooks.org/wiki/LaTeX/Mathematics)\n",
    "\n",
    "$ \\frac{1}{2} \\times \\pi R_1^2 $"
   ]
  },
  {
   "cell_type": "code",
   "execution_count": null,
   "metadata": {},
   "outputs": [],
   "source": []
  }
 ],
 "metadata": {
  "kernelspec": {
   "display_name": "Python 3.7.6 64-bit",
   "language": "python",
   "name": "python37664bit46848372dce847908168e25bb65580f4"
  },
  "language_info": {
   "codemirror_mode": {
    "name": "ipython",
    "version": 3
   },
   "file_extension": ".py",
   "mimetype": "text/x-python",
   "name": "python",
   "nbconvert_exporter": "python",
   "pygments_lexer": "ipython3",
   "version": "3.7.6"
  }
 },
 "nbformat": 4,
 "nbformat_minor": 1
}
