{
 "cells": [
  {
   "cell_type": "markdown",
   "metadata": {},
   "source": [
    "## 詞向量\n",
    "#### 文字最基本的整理方法 -> 把\"分詞\"後的結果做成一個向量\n",
    "## TF-IDF方法\n",
    "- <font color=blue size=2>TF (次數): 次數越多，重要性越高</font>\n",
    "- <font color=blue size=2>IDF (常用度): 詞越常用，重要度越低</font>\n",
    "- <font color=blue size=2>TF-IDF(重) = TF * (1 / IDF)</font>"
   ]
  },
  {
   "cell_type": "code",
   "execution_count": 1,
   "metadata": {},
   "outputs": [
    {
     "data": {
      "text/plain": [
       "'為什麼會覺得煩呢？也許讓我們學寫繁體中文的話，我們可能會煩。\\n主要看所處的環境。\\n如果樓主從一出生就學的是繁體中文的話，現在讓你學寫簡體中文，你也會煩的。如果一個英語為母語的專國家，讓他們的人民學中文，不管是繁體屬還是簡體都會煩。\\n要你用你的純母語來書寫，應該是最順手的吧'"
      ]
     },
     "execution_count": 1,
     "metadata": {},
     "output_type": "execute_result"
    }
   ],
   "source": [
    "with open(\"test.txt\", \"r\", encoding=\"utf-8\") as f:\n",
    "    article = f.read()\n",
    "\n",
    "# opencc-python-reimplemented:簡繁轉換工具\n",
    "# jeiba:分詞工具\n",
    "# jeiba分詞常用模式: 精確模式、搜尋引擎模式\n",
    "\n",
    "from opencc import OpenCC\n",
    "cc = OpenCC('s2tw') \n",
    "\n",
    "converted = cc.convert(article)\n",
    "converted"
   ]
  },
  {
   "cell_type": "code",
   "execution_count": 3,
   "metadata": {},
   "outputs": [
    {
     "name": "stderr",
     "output_type": "stream",
     "text": [
      "Building prefix dict from C:\\Users\\yueh lun\\Desktop\\Machine Learning-offline\\MLDemo\\dict.txt.big ...\n",
      "Loading model from cache C:\\Users\\YUEHLU~1\\AppData\\Local\\Temp\\jieba.ude001e733bd6a0ddda8be52e6b5660e5.cache\n",
      "Loading model cost 1.976 seconds.\n",
      "Prefix dict has been built successfully.\n"
     ]
    },
    {
     "data": {
      "text/plain": [
       "'台灣 援贈 新加坡 口罩 ， 新加坡 總理 李顯龍 夫人 何晶 臉書 轉發 相關 報導 ， 還 發文 「 Errrr ... （ 呃 ... ） 」 一度 引起 熱議 ， 但 她 已 修改 這段 謎樣 文字 ， 對 來自 台灣 的 協助 表示感謝 。 \\n 外交部 日前 宣布 啟動 第二 波 援助 需要 口罩 的 國家 ， 對象 包含 新 南向 政策 國家 ， 新加坡 也 在 名單 內 ， 但 李顯龍 的 夫人 何晶 11 日 在 臉書 轉發 相關 報導 ， 還 發文 「 Errrr ... （ 呃 ... ） 」 引起 熱議 。 \\n 不少 網友 對 何晶 以 Errrr .... 表達 看法 感到 好奇 ， 不 了解 究竟 意涵 為何 。 這個 貼文 也 引發 不同 立場 網友 在 她 的 臉書 中 筆戰 。 \\n 有 網友 認為 還是 要 就事論事 ， 新加坡 提出 口罩 的 需求 ， 所以 排 在 台灣 捐贈 名單 上 。 連 台灣 人 在 新加坡 的 部分 社群 也 熱烈 討論 這則 貼文 。 \\n 何晶 今天 也 修改 這段 如 謎 字 般的 留言 。 她 對 台灣 的 朋友 的 協助 特別 表示感謝 ， 並 表達 感激 之情 。 \\n 何晶 指出 ， 大家 要 相互 擁抱 ， 停止 在 網路 空間 相互 攻擊 。'"
      ]
     },
     "execution_count": 3,
     "metadata": {},
     "output_type": "execute_result"
    }
   ],
   "source": [
    "# 若要用機器學習、深度學習做後續處理 -> 必須將中文處理得跟英文一樣 => 用空格隔開\n",
    "# 大辭典裡有繁體，不用經過opencc轉換，精準度較高，可載入使用\n",
    "\n",
    "import os\n",
    "import jieba \n",
    "from urllib.request import urlretrieve\n",
    "if not os.path.exists(\"dict.txt.big\"):\n",
    "    print(\"[1st time] 下載大辭典\")\n",
    "    url = \"https://github.com/fxsjy/jieba/raw/master/extra_dict/dict.txt.big\"\n",
    "    urlretrieve(url, \"dict.txt.big\")\n",
    "    \n",
    "with open(\"news.txt\", \"r\", encoding=\"utf-8\") as f:\n",
    "    news = f.read()\n",
    "    \n",
    "# 使用大辭典分詞，關鍵詞排名較精準\n",
    "jieba.set_dictionary(\"dict.txt.big\")\n",
    "\n",
    "# 準備預分析文章之領域專有名詞詞彙庫 -> 使分析更精準\n",
    "jieba.load_userdict(\"politics_dict.txt\")\n",
    "\n",
    "# 用空格將詞隔開\n",
    "\" \".join(jieba.cut(news))"
   ]
  },
  {
   "cell_type": "code",
   "execution_count": 4,
   "metadata": {},
   "outputs": [
    {
     "data": {
      "text/plain": [
       "['台灣',\n",
       " '何晶',\n",
       " '...',\n",
       " '新加坡',\n",
       " '臉書',\n",
       " 'Errrr',\n",
       " '網友',\n",
       " '口罩',\n",
       " '李顯龍',\n",
       " '轉發',\n",
       " '相關',\n",
       " '報導',\n",
       " '發文',\n",
       " '熱議',\n",
       " '這段',\n",
       " '協助',\n",
       " '表示感謝',\n",
       " '國家',\n",
       " '名單',\n",
       " '表達']"
      ]
     },
     "execution_count": 4,
     "metadata": {},
     "output_type": "execute_result"
    }
   ],
   "source": [
    "# 抓出關鍵詞 (預設會抓20個)\n",
    "from jieba.analyse import extract_tags\n",
    "extract_tags(news)"
   ]
  },
  {
   "cell_type": "code",
   "execution_count": null,
   "metadata": {},
   "outputs": [],
   "source": [
    "# 除了專有名詞，也可準備一份常用詞(泛用度高)辭典 -> jieba analyse idf.txt"
   ]
  }
 ],
 "metadata": {
  "kernelspec": {
   "display_name": "Python 3",
   "language": "python",
   "name": "python3"
  },
  "language_info": {
   "codemirror_mode": {
    "name": "ipython",
    "version": 3
   },
   "file_extension": ".py",
   "mimetype": "text/x-python",
   "name": "python",
   "nbconvert_exporter": "python",
   "pygments_lexer": "ipython3",
   "version": "3.7.3"
  }
 },
 "nbformat": 4,
 "nbformat_minor": 4
}
