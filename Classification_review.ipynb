{
 "cells": [
  {
   "cell_type": "markdown",
   "metadata": {
    "colab_type": "text",
    "id": "Zmd83DRNjgBW"
   },
   "source": [
    "### Classification 分類\n",
    "#### 監督式學習，答案無大小關係 (離散)\n",
    "\n",
    "> <font color=blue size=2>CSV (Common Seperated Values)</font>\n",
    "- 每個資料: 以逗點隔開\n",
    "- 每筆資料: 以換行表示\n",
    "- 含逗點的資料: 用雙引號括起來"
   ]
  },
  {
   "cell_type": "markdown",
   "metadata": {
    "colab_type": "text",
    "id": "xtQ2M-ZUjgBY"
   },
   "source": [
    "#### <font color=red size=3>步驟一: 載入資料集，用pandas以表格呈現</font>"
   ]
  },
  {
   "cell_type": "code",
   "execution_count": 1,
   "metadata": {
    "colab": {},
    "colab_type": "code",
    "id": "N-xpdJKwjgBZ",
    "outputId": "0b3b07be-aa2b-49ad-a7a0-d475b7fbff5b",
    "scrolled": false
   },
   "outputs": [
    {
     "data": {
      "text/html": [
       "<div>\n",
       "<style scoped>\n",
       "    .dataframe tbody tr th:only-of-type {\n",
       "        vertical-align: middle;\n",
       "    }\n",
       "\n",
       "    .dataframe tbody tr th {\n",
       "        vertical-align: top;\n",
       "    }\n",
       "\n",
       "    .dataframe thead th {\n",
       "        text-align: right;\n",
       "    }\n",
       "</style>\n",
       "<table border=\"1\" class=\"dataframe\">\n",
       "  <thead>\n",
       "    <tr style=\"text-align: right;\">\n",
       "      <th></th>\n",
       "      <th>sepal length (cm)</th>\n",
       "      <th>sepal width (cm)</th>\n",
       "      <th>petal length (cm)</th>\n",
       "      <th>petal width (cm)</th>\n",
       "      <th>ans</th>\n",
       "    </tr>\n",
       "  </thead>\n",
       "  <tbody>\n",
       "    <tr>\n",
       "      <th>0</th>\n",
       "      <td>5.1</td>\n",
       "      <td>3.5</td>\n",
       "      <td>1.4</td>\n",
       "      <td>0.2</td>\n",
       "      <td>0</td>\n",
       "    </tr>\n",
       "    <tr>\n",
       "      <th>1</th>\n",
       "      <td>4.9</td>\n",
       "      <td>3.0</td>\n",
       "      <td>1.4</td>\n",
       "      <td>0.2</td>\n",
       "      <td>0</td>\n",
       "    </tr>\n",
       "    <tr>\n",
       "      <th>2</th>\n",
       "      <td>4.7</td>\n",
       "      <td>3.2</td>\n",
       "      <td>1.3</td>\n",
       "      <td>0.2</td>\n",
       "      <td>0</td>\n",
       "    </tr>\n",
       "    <tr>\n",
       "      <th>3</th>\n",
       "      <td>4.6</td>\n",
       "      <td>3.1</td>\n",
       "      <td>1.5</td>\n",
       "      <td>0.2</td>\n",
       "      <td>0</td>\n",
       "    </tr>\n",
       "    <tr>\n",
       "      <th>4</th>\n",
       "      <td>5.0</td>\n",
       "      <td>3.6</td>\n",
       "      <td>1.4</td>\n",
       "      <td>0.2</td>\n",
       "      <td>0</td>\n",
       "    </tr>\n",
       "    <tr>\n",
       "      <th>...</th>\n",
       "      <td>...</td>\n",
       "      <td>...</td>\n",
       "      <td>...</td>\n",
       "      <td>...</td>\n",
       "      <td>...</td>\n",
       "    </tr>\n",
       "    <tr>\n",
       "      <th>145</th>\n",
       "      <td>6.7</td>\n",
       "      <td>3.0</td>\n",
       "      <td>5.2</td>\n",
       "      <td>2.3</td>\n",
       "      <td>2</td>\n",
       "    </tr>\n",
       "    <tr>\n",
       "      <th>146</th>\n",
       "      <td>6.3</td>\n",
       "      <td>2.5</td>\n",
       "      <td>5.0</td>\n",
       "      <td>1.9</td>\n",
       "      <td>2</td>\n",
       "    </tr>\n",
       "    <tr>\n",
       "      <th>147</th>\n",
       "      <td>6.5</td>\n",
       "      <td>3.0</td>\n",
       "      <td>5.2</td>\n",
       "      <td>2.0</td>\n",
       "      <td>2</td>\n",
       "    </tr>\n",
       "    <tr>\n",
       "      <th>148</th>\n",
       "      <td>6.2</td>\n",
       "      <td>3.4</td>\n",
       "      <td>5.4</td>\n",
       "      <td>2.3</td>\n",
       "      <td>2</td>\n",
       "    </tr>\n",
       "    <tr>\n",
       "      <th>149</th>\n",
       "      <td>5.9</td>\n",
       "      <td>3.0</td>\n",
       "      <td>5.1</td>\n",
       "      <td>1.8</td>\n",
       "      <td>2</td>\n",
       "    </tr>\n",
       "  </tbody>\n",
       "</table>\n",
       "<p>150 rows × 5 columns</p>\n",
       "</div>"
      ],
      "text/plain": [
       "     sepal length (cm)  sepal width (cm)  petal length (cm)  petal width (cm)  \\\n",
       "0                  5.1               3.5                1.4               0.2   \n",
       "1                  4.9               3.0                1.4               0.2   \n",
       "2                  4.7               3.2                1.3               0.2   \n",
       "3                  4.6               3.1                1.5               0.2   \n",
       "4                  5.0               3.6                1.4               0.2   \n",
       "..                 ...               ...                ...               ...   \n",
       "145                6.7               3.0                5.2               2.3   \n",
       "146                6.3               2.5                5.0               1.9   \n",
       "147                6.5               3.0                5.2               2.0   \n",
       "148                6.2               3.4                5.4               2.3   \n",
       "149                5.9               3.0                5.1               1.8   \n",
       "\n",
       "     ans  \n",
       "0      0  \n",
       "1      0  \n",
       "2      0  \n",
       "3      0  \n",
       "4      0  \n",
       "..   ...  \n",
       "145    2  \n",
       "146    2  \n",
       "147    2  \n",
       "148    2  \n",
       "149    2  \n",
       "\n",
       "[150 rows x 5 columns]"
      ]
     },
     "execution_count": 1,
     "metadata": {},
     "output_type": "execute_result"
    }
   ],
   "source": [
    "import pandas as pd\n",
    "from sklearn.datasets import load_iris\n",
    "iris = load_iris()  # 讀出來為字典\n",
    "\n",
    "df = pd.DataFrame(iris[\"data\"], # 直行\n",
    "                  columns = iris[\"feature_names\"]) # 橫列\n",
    "df[\"ans\"] = iris[\"target\"] # 增加答案   df[\"ans\"]答案從iris[\"target\"]增加\n",
    "df"
   ]
  },
  {
   "cell_type": "markdown",
   "metadata": {
    "colab_type": "text",
    "id": "jF9weZrjjgBf"
   },
   "source": [
    "#### <font color=red size=3>步驟二: 將資料切分兩部分: 拿來訓練的 和 拿來測試的</font>"
   ]
  },
  {
   "cell_type": "code",
   "execution_count": 2,
   "metadata": {
    "colab": {},
    "colab_type": "code",
    "id": "-yQBgvlXjgBg"
   },
   "outputs": [],
   "source": [
    "from sklearn.model_selection import train_test_split\n",
    "# train_test_split(arrays, options)\n",
    "# test_size 多少部分要拿來測試\n",
    "# 將資料分割成[90%題目, 10%題目, 90%答案, 10%答案]\n",
    "data_train, data_test, target_train, target_test = train_test_split(iris[\"data\"],   # x(題目)\n",
    "                                                                    iris[\"target\"], # y(答案)\n",
    "                                                                    test_size=0.1)  # 10%"
   ]
  },
  {
   "cell_type": "markdown",
   "metadata": {
    "colab_type": "text",
    "id": "n3llQifhjgBj"
   },
   "source": [
    "#### <font color=red size=3>步驟三: 使用DecisionTreeClassifier來訓練模型</font>\n",
    "#### <font color=red size=3>步驟六: 用驗證分數修正max_depth</font>"
   ]
  },
  {
   "cell_type": "code",
   "execution_count": 3,
   "metadata": {
    "colab": {},
    "colab_type": "code",
    "id": "WOGigJqbjgBk",
    "outputId": "28437274-a796-4d8b-c6de-e5cc088679d0"
   },
   "outputs": [
    {
     "data": {
      "text/plain": [
       "DecisionTreeClassifier(ccp_alpha=0.0, class_weight=None, criterion='gini',\n",
       "                       max_depth=3, max_features=None, max_leaf_nodes=None,\n",
       "                       min_impurity_decrease=0.0, min_impurity_split=None,\n",
       "                       min_samples_leaf=1, min_samples_split=2,\n",
       "                       min_weight_fraction_leaf=0.0, presort='deprecated',\n",
       "                       random_state=None, splitter='best')"
      ]
     },
     "execution_count": 3,
     "metadata": {},
     "output_type": "execute_result"
    }
   ],
   "source": [
    "from sklearn.tree import DecisionTreeClassifier\n",
    "\n",
    "# 先試試將樹的最大深度設為3，之後依結果是否過擬合來判斷適不適合，再做出修正 (前剪枝)\n",
    "clf = DecisionTreeClassifier(max_depth = 3)\n",
    "\n",
    "# 餵資料讓他學習 (fit)\n",
    "clf.fit(data_train, target_train)"
   ]
  },
  {
   "cell_type": "markdown",
   "metadata": {
    "colab_type": "text",
    "id": "lwVxKmwmjgBn"
   },
   "source": [
    "#### <font color=red size=3>步驟四:利用測試資料，驗證模型的正確率</font>"
   ]
  },
  {
   "cell_type": "code",
   "execution_count": 9,
   "metadata": {
    "colab": {},
    "colab_type": "code",
    "id": "iYQxfK86jgBo",
    "outputId": "371a47c6-3525-4299-a1f9-a86232358bd7"
   },
   "outputs": [
    {
     "name": "stdout",
     "output_type": "stream",
     "text": [
      "預測結果: [1, 0, 0, 2, 1, 1, 0, 1, 0, 1, 2, 2, 2, 0, 0]\n",
      "真正結果: [1, 0, 0, 2, 1, 1, 0, 1, 0, 1, 2, 2, 2, 0, 0]\n"
     ]
    },
    {
     "data": {
      "text/plain": [
       "1.0"
      ]
     },
     "execution_count": 9,
     "metadata": {},
     "output_type": "execute_result"
    }
   ],
   "source": [
    "from sklearn.metrics import accuracy_score\n",
    "\n",
    "# 把驗證的資料丟進剛剛訓練好的模型 (predict)\n",
    "pre = clf.predict(data_test)  # x_test\n",
    "\n",
    "print(\"預測結果:\", list(pre))\n",
    "print(\"真正結果:\", list(target_test))\n",
    "\n",
    "# 比較預測結果和正確答案 ->即模型的正確率\n",
    "# 每次正確率都不一樣 -> 因為步驟二的資料切分是隨機的\n",
    "accuracy_score(pre, target_test)  # y_test"
   ]
  },
  {
   "cell_type": "markdown",
   "metadata": {
    "colab_type": "text",
    "id": "3lCSWDOsjgBs"
   },
   "source": [
    "#### <font color=red size=3>步驟五: 用第三方軟體Graphviz將決策樹畫出來</font>"
   ]
  },
  {
   "cell_type": "code",
   "execution_count": 5,
   "metadata": {
    "colab": {},
    "colab_type": "code",
    "id": "Ink97NeBjgBs",
    "outputId": "c1222796-f277-41aa-f42c-3073d0d75dfb"
   },
   "outputs": [
    {
     "data": {
      "image/svg+xml": [
       "<?xml version=\"1.0\" encoding=\"UTF-8\" standalone=\"no\"?>\r\n",
       "<!DOCTYPE svg PUBLIC \"-//W3C//DTD SVG 1.1//EN\"\r\n",
       " \"http://www.w3.org/Graphics/SVG/1.1/DTD/svg11.dtd\">\r\n",
       "<!-- Generated by graphviz version 2.38.0 (20140413.2041)\r\n",
       " -->\r\n",
       "<!-- Title: Tree Pages: 1 -->\r\n",
       "<svg width=\"530pt\" height=\"433pt\"\r\n",
       " viewBox=\"0.00 0.00 530.00 433.00\" xmlns=\"http://www.w3.org/2000/svg\" xmlns:xlink=\"http://www.w3.org/1999/xlink\">\r\n",
       "<g id=\"graph0\" class=\"graph\" transform=\"scale(1 1) rotate(0) translate(4 429)\">\r\n",
       "<title>Tree</title>\r\n",
       "<polygon fill=\"white\" stroke=\"none\" points=\"-4,4 -4,-429 526,-429 526,4 -4,4\"/>\r\n",
       "<!-- 0 -->\r\n",
       "<g id=\"node1\" class=\"node\"><title>0</title>\r\n",
       "<polygon fill=\"#fefdff\" stroke=\"black\" points=\"261.5,-425 112.5,-425 112.5,-342 261.5,-342 261.5,-425\"/>\r\n",
       "<text text-anchor=\"middle\" x=\"187\" y=\"-409.8\" font-family=\"Times New Roman,serif\" font-size=\"14.00\">petal width (cm) &lt;= 0.8</text>\r\n",
       "<text text-anchor=\"middle\" x=\"187\" y=\"-394.8\" font-family=\"Times New Roman,serif\" font-size=\"14.00\">gini = 0.667</text>\r\n",
       "<text text-anchor=\"middle\" x=\"187\" y=\"-379.8\" font-family=\"Times New Roman,serif\" font-size=\"14.00\">samples = 135</text>\r\n",
       "<text text-anchor=\"middle\" x=\"187\" y=\"-364.8\" font-family=\"Times New Roman,serif\" font-size=\"14.00\">value = [44, 45, 46]</text>\r\n",
       "<text text-anchor=\"middle\" x=\"187\" y=\"-349.8\" font-family=\"Times New Roman,serif\" font-size=\"14.00\">class = virginica</text>\r\n",
       "</g>\r\n",
       "<!-- 1 -->\r\n",
       "<g id=\"node2\" class=\"node\"><title>1</title>\r\n",
       "<polygon fill=\"#e58139\" stroke=\"black\" points=\"167,-298.5 55,-298.5 55,-230.5 167,-230.5 167,-298.5\"/>\r\n",
       "<text text-anchor=\"middle\" x=\"111\" y=\"-283.3\" font-family=\"Times New Roman,serif\" font-size=\"14.00\">gini = 0.0</text>\r\n",
       "<text text-anchor=\"middle\" x=\"111\" y=\"-268.3\" font-family=\"Times New Roman,serif\" font-size=\"14.00\">samples = 44</text>\r\n",
       "<text text-anchor=\"middle\" x=\"111\" y=\"-253.3\" font-family=\"Times New Roman,serif\" font-size=\"14.00\">value = [44, 0, 0]</text>\r\n",
       "<text text-anchor=\"middle\" x=\"111\" y=\"-238.3\" font-family=\"Times New Roman,serif\" font-size=\"14.00\">class = setosa</text>\r\n",
       "</g>\r\n",
       "<!-- 0&#45;&gt;1 -->\r\n",
       "<g id=\"edge1\" class=\"edge\"><title>0&#45;&gt;1</title>\r\n",
       "<path fill=\"none\" stroke=\"black\" d=\"M160.632,-341.907C153.321,-330.652 145.374,-318.418 138.026,-307.106\"/>\r\n",
       "<polygon fill=\"black\" stroke=\"black\" points=\"140.927,-305.146 132.544,-298.667 135.057,-308.96 140.927,-305.146\"/>\r\n",
       "<text text-anchor=\"middle\" x=\"127.349\" y=\"-319.421\" font-family=\"Times New Roman,serif\" font-size=\"14.00\">True</text>\r\n",
       "</g>\r\n",
       "<!-- 2 -->\r\n",
       "<g id=\"node3\" class=\"node\"><title>2</title>\r\n",
       "<polygon fill=\"#fcfbfe\" stroke=\"black\" points=\"340.5,-306 185.5,-306 185.5,-223 340.5,-223 340.5,-306\"/>\r\n",
       "<text text-anchor=\"middle\" x=\"263\" y=\"-290.8\" font-family=\"Times New Roman,serif\" font-size=\"14.00\">petal width (cm) &lt;= 1.75</text>\r\n",
       "<text text-anchor=\"middle\" x=\"263\" y=\"-275.8\" font-family=\"Times New Roman,serif\" font-size=\"14.00\">gini = 0.5</text>\r\n",
       "<text text-anchor=\"middle\" x=\"263\" y=\"-260.8\" font-family=\"Times New Roman,serif\" font-size=\"14.00\">samples = 91</text>\r\n",
       "<text text-anchor=\"middle\" x=\"263\" y=\"-245.8\" font-family=\"Times New Roman,serif\" font-size=\"14.00\">value = [0, 45, 46]</text>\r\n",
       "<text text-anchor=\"middle\" x=\"263\" y=\"-230.8\" font-family=\"Times New Roman,serif\" font-size=\"14.00\">class = virginica</text>\r\n",
       "</g>\r\n",
       "<!-- 0&#45;&gt;2 -->\r\n",
       "<g id=\"edge2\" class=\"edge\"><title>0&#45;&gt;2</title>\r\n",
       "<path fill=\"none\" stroke=\"black\" d=\"M213.368,-341.907C219.086,-333.105 225.193,-323.703 231.098,-314.612\"/>\r\n",
       "<polygon fill=\"black\" stroke=\"black\" points=\"234.167,-316.313 236.679,-306.021 228.296,-312.5 234.167,-316.313\"/>\r\n",
       "<text text-anchor=\"middle\" x=\"241.874\" y=\"-326.775\" font-family=\"Times New Roman,serif\" font-size=\"14.00\">False</text>\r\n",
       "</g>\r\n",
       "<!-- 3 -->\r\n",
       "<g id=\"node4\" class=\"node\"><title>3</title>\r\n",
       "<polygon fill=\"#50e88f\" stroke=\"black\" points=\"254,-187 96,-187 96,-104 254,-104 254,-187\"/>\r\n",
       "<text text-anchor=\"middle\" x=\"175\" y=\"-171.8\" font-family=\"Times New Roman,serif\" font-size=\"14.00\">petal length (cm) &lt;= 4.95</text>\r\n",
       "<text text-anchor=\"middle\" x=\"175\" y=\"-156.8\" font-family=\"Times New Roman,serif\" font-size=\"14.00\">gini = 0.183</text>\r\n",
       "<text text-anchor=\"middle\" x=\"175\" y=\"-141.8\" font-family=\"Times New Roman,serif\" font-size=\"14.00\">samples = 49</text>\r\n",
       "<text text-anchor=\"middle\" x=\"175\" y=\"-126.8\" font-family=\"Times New Roman,serif\" font-size=\"14.00\">value = [0, 44, 5]</text>\r\n",
       "<text text-anchor=\"middle\" x=\"175\" y=\"-111.8\" font-family=\"Times New Roman,serif\" font-size=\"14.00\">class = versicolor</text>\r\n",
       "</g>\r\n",
       "<!-- 2&#45;&gt;3 -->\r\n",
       "<g id=\"edge3\" class=\"edge\"><title>2&#45;&gt;3</title>\r\n",
       "<path fill=\"none\" stroke=\"black\" d=\"M232.469,-222.907C225.711,-213.923 218.485,-204.315 211.516,-195.05\"/>\r\n",
       "<polygon fill=\"black\" stroke=\"black\" points=\"214.285,-192.909 205.477,-187.021 208.691,-197.116 214.285,-192.909\"/>\r\n",
       "</g>\r\n",
       "<!-- 6 -->\r\n",
       "<g id=\"node7\" class=\"node\"><title>6</title>\r\n",
       "<polygon fill=\"#843ee6\" stroke=\"black\" points=\"430,-187 272,-187 272,-104 430,-104 430,-187\"/>\r\n",
       "<text text-anchor=\"middle\" x=\"351\" y=\"-171.8\" font-family=\"Times New Roman,serif\" font-size=\"14.00\">petal length (cm) &lt;= 4.85</text>\r\n",
       "<text text-anchor=\"middle\" x=\"351\" y=\"-156.8\" font-family=\"Times New Roman,serif\" font-size=\"14.00\">gini = 0.046</text>\r\n",
       "<text text-anchor=\"middle\" x=\"351\" y=\"-141.8\" font-family=\"Times New Roman,serif\" font-size=\"14.00\">samples = 42</text>\r\n",
       "<text text-anchor=\"middle\" x=\"351\" y=\"-126.8\" font-family=\"Times New Roman,serif\" font-size=\"14.00\">value = [0, 1, 41]</text>\r\n",
       "<text text-anchor=\"middle\" x=\"351\" y=\"-111.8\" font-family=\"Times New Roman,serif\" font-size=\"14.00\">class = virginica</text>\r\n",
       "</g>\r\n",
       "<!-- 2&#45;&gt;6 -->\r\n",
       "<g id=\"edge6\" class=\"edge\"><title>2&#45;&gt;6</title>\r\n",
       "<path fill=\"none\" stroke=\"black\" d=\"M293.531,-222.907C300.289,-213.923 307.515,-204.315 314.484,-195.05\"/>\r\n",
       "<polygon fill=\"black\" stroke=\"black\" points=\"317.309,-197.116 320.523,-187.021 311.715,-192.909 317.309,-197.116\"/>\r\n",
       "</g>\r\n",
       "<!-- 4 -->\r\n",
       "<g id=\"node5\" class=\"node\"><title>4</title>\r\n",
       "<polygon fill=\"#3ee684\" stroke=\"black\" points=\"116,-68 0,-68 0,-0 116,-0 116,-68\"/>\r\n",
       "<text text-anchor=\"middle\" x=\"58\" y=\"-52.8\" font-family=\"Times New Roman,serif\" font-size=\"14.00\">gini = 0.045</text>\r\n",
       "<text text-anchor=\"middle\" x=\"58\" y=\"-37.8\" font-family=\"Times New Roman,serif\" font-size=\"14.00\">samples = 43</text>\r\n",
       "<text text-anchor=\"middle\" x=\"58\" y=\"-22.8\" font-family=\"Times New Roman,serif\" font-size=\"14.00\">value = [0, 42, 1]</text>\r\n",
       "<text text-anchor=\"middle\" x=\"58\" y=\"-7.8\" font-family=\"Times New Roman,serif\" font-size=\"14.00\">class = versicolor</text>\r\n",
       "</g>\r\n",
       "<!-- 3&#45;&gt;4 -->\r\n",
       "<g id=\"edge4\" class=\"edge\"><title>3&#45;&gt;4</title>\r\n",
       "<path fill=\"none\" stroke=\"black\" d=\"M131.434,-103.726C121.493,-94.423 110.936,-84.5428 101.019,-75.2612\"/>\r\n",
       "<polygon fill=\"black\" stroke=\"black\" points=\"103.273,-72.5774 93.5804,-68.2996 98.49,-77.6882 103.273,-72.5774\"/>\r\n",
       "</g>\r\n",
       "<!-- 5 -->\r\n",
       "<g id=\"node6\" class=\"node\"><title>5</title>\r\n",
       "<polygon fill=\"#c09cf2\" stroke=\"black\" points=\"241.5,-68 134.5,-68 134.5,-0 241.5,-0 241.5,-68\"/>\r\n",
       "<text text-anchor=\"middle\" x=\"188\" y=\"-52.8\" font-family=\"Times New Roman,serif\" font-size=\"14.00\">gini = 0.444</text>\r\n",
       "<text text-anchor=\"middle\" x=\"188\" y=\"-37.8\" font-family=\"Times New Roman,serif\" font-size=\"14.00\">samples = 6</text>\r\n",
       "<text text-anchor=\"middle\" x=\"188\" y=\"-22.8\" font-family=\"Times New Roman,serif\" font-size=\"14.00\">value = [0, 2, 4]</text>\r\n",
       "<text text-anchor=\"middle\" x=\"188\" y=\"-7.8\" font-family=\"Times New Roman,serif\" font-size=\"14.00\">class = virginica</text>\r\n",
       "</g>\r\n",
       "<!-- 3&#45;&gt;5 -->\r\n",
       "<g id=\"edge5\" class=\"edge\"><title>3&#45;&gt;5</title>\r\n",
       "<path fill=\"none\" stroke=\"black\" d=\"M179.841,-103.726C180.826,-95.4263 181.866,-86.6671 182.861,-78.2834\"/>\r\n",
       "<polygon fill=\"black\" stroke=\"black\" points=\"186.343,-78.6425 184.047,-68.2996 179.392,-77.8172 186.343,-78.6425\"/>\r\n",
       "</g>\r\n",
       "<!-- 7 -->\r\n",
       "<g id=\"node8\" class=\"node\"><title>7</title>\r\n",
       "<polygon fill=\"#c09cf2\" stroke=\"black\" points=\"391.5,-68 284.5,-68 284.5,-0 391.5,-0 391.5,-68\"/>\r\n",
       "<text text-anchor=\"middle\" x=\"338\" y=\"-52.8\" font-family=\"Times New Roman,serif\" font-size=\"14.00\">gini = 0.444</text>\r\n",
       "<text text-anchor=\"middle\" x=\"338\" y=\"-37.8\" font-family=\"Times New Roman,serif\" font-size=\"14.00\">samples = 3</text>\r\n",
       "<text text-anchor=\"middle\" x=\"338\" y=\"-22.8\" font-family=\"Times New Roman,serif\" font-size=\"14.00\">value = [0, 1, 2]</text>\r\n",
       "<text text-anchor=\"middle\" x=\"338\" y=\"-7.8\" font-family=\"Times New Roman,serif\" font-size=\"14.00\">class = virginica</text>\r\n",
       "</g>\r\n",
       "<!-- 6&#45;&gt;7 -->\r\n",
       "<g id=\"edge7\" class=\"edge\"><title>6&#45;&gt;7</title>\r\n",
       "<path fill=\"none\" stroke=\"black\" d=\"M346.159,-103.726C345.174,-95.4263 344.134,-86.6671 343.139,-78.2834\"/>\r\n",
       "<polygon fill=\"black\" stroke=\"black\" points=\"346.608,-77.8172 341.953,-68.2996 339.657,-78.6425 346.608,-77.8172\"/>\r\n",
       "</g>\r\n",
       "<!-- 8 -->\r\n",
       "<g id=\"node9\" class=\"node\"><title>8</title>\r\n",
       "<polygon fill=\"#8139e5\" stroke=\"black\" points=\"522,-68 410,-68 410,-0 522,-0 522,-68\"/>\r\n",
       "<text text-anchor=\"middle\" x=\"466\" y=\"-52.8\" font-family=\"Times New Roman,serif\" font-size=\"14.00\">gini = 0.0</text>\r\n",
       "<text text-anchor=\"middle\" x=\"466\" y=\"-37.8\" font-family=\"Times New Roman,serif\" font-size=\"14.00\">samples = 39</text>\r\n",
       "<text text-anchor=\"middle\" x=\"466\" y=\"-22.8\" font-family=\"Times New Roman,serif\" font-size=\"14.00\">value = [0, 0, 39]</text>\r\n",
       "<text text-anchor=\"middle\" x=\"466\" y=\"-7.8\" font-family=\"Times New Roman,serif\" font-size=\"14.00\">class = virginica</text>\r\n",
       "</g>\r\n",
       "<!-- 6&#45;&gt;8 -->\r\n",
       "<g id=\"edge8\" class=\"edge\"><title>6&#45;&gt;8</title>\r\n",
       "<path fill=\"none\" stroke=\"black\" d=\"M393.822,-103.726C403.592,-94.423 413.969,-84.5428 423.717,-75.2612\"/>\r\n",
       "<polygon fill=\"black\" stroke=\"black\" points=\"426.199,-77.7301 431.028,-68.2996 421.372,-72.6606 426.199,-77.7301\"/>\r\n",
       "</g>\r\n",
       "</g>\r\n",
       "</svg>\r\n"
      ],
      "text/plain": [
       "<graphviz.files.Source at 0x1fc3729c208>"
      ]
     },
     "execution_count": 5,
     "metadata": {},
     "output_type": "execute_result"
    }
   ],
   "source": [
    "import graphviz\n",
    "from sklearn.tree import export_graphviz\n",
    "\n",
    "g = export_graphviz(clf, \n",
    "                    feature_names=iris[\"feature_names\"],  # 特徵名字\n",
    "                    class_names=iris[\"target_names\"],     # 目標名字\n",
    "                    filled=True)\n",
    "graphviz.Source(g)"
   ]
  },
  {
   "cell_type": "markdown",
   "metadata": {
    "colab_type": "text",
    "id": "yIwoIGi4jgBw"
   },
   "source": [
    "- samples = 資料筆數\n",
    "- value = [第一種花數量, 第二種花數量, 第三種花數量]                    \n",
    " <font color=black size=2>**決策樹每層選擇一個特徵，使得信心程度最高</font>\n",
    "\n",
    "### <font color=blue size=3>gini係數: 照著機率猜的平均錯誤率 = ∑ p(1-p)，因此gini係數越小越好</font>                     \n",
    " <font color=black size=2>*(補充)衡量亂度的另一種方式: Entropy(熵) = ∑plog(1/p) ->可以想成log版本的gini係數</font>         \n",
    "\n",
    "\n",
    "### <font color=blue size=3>擬合 (訓練多寡): 訓練模型不是訓練到最好就是最好</font>     \n",
    "- 必須適時放棄依些資料、掌握大方向 \n",
    "- ex. 最後sample只有一個，特徵匹配牽強 => 過擬合\n",
    "- 解決方法: (法一) 剪枝 (前剪枝) => 即步驟六的改變樹的最大深度，沒有公式可得知最佳深度，因此只能使用經驗法則判斷\n",
    "- **後剪枝: sklearn不支援\n",
    "- 解決方法: (法二) 隨機森林 \n",
    "\n",
    "### <font color=blue size=3>決策樹的優點: 符合直覺，可解釋性高</font>"
   ]
  }
 ],
 "metadata": {
  "colab": {
   "name": "Classification_review.ipynb",
   "provenance": []
  },
  "kernelspec": {
   "display_name": "Python 3",
   "language": "python",
   "name": "python3"
  },
  "language_info": {
   "codemirror_mode": {
    "name": "ipython",
    "version": 3
   },
   "file_extension": ".py",
   "mimetype": "text/x-python",
   "name": "python",
   "nbconvert_exporter": "python",
   "pygments_lexer": "ipython3",
   "version": "3.7.6"
  }
 },
 "nbformat": 4,
 "nbformat_minor": 1
}
